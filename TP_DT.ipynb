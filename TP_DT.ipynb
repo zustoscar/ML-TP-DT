{
 "cells": [
  {
   "cell_type": "code",
   "execution_count": 1,
   "metadata": {},
   "outputs": [],
   "source": [
    "import numpy as np\n",
    "from sklearn.datasets import load_iris\n",
    "from sklearn import tree\n",
    "from sklearn.model_selection import train_test_split, GridSearchCV\n",
    "iris = load_iris()\n",
    "X, y = iris.data, iris.target"
   ]
  },
  {
   "cell_type": "code",
   "execution_count": 2,
   "metadata": {},
   "outputs": [
    {
     "name": "stdout",
     "output_type": "stream",
     "text": [
      "mean : [5.84333333 3.05733333 3.758      1.19933333]\n",
      "std : [0.82530129 0.43441097 1.75940407 0.75969263]\n",
      "number of examples of each class : [50 50 50]\n"
     ]
    }
   ],
   "source": [
    "# 1. Calculer les statistiques (moyenne et écart-type) des quatre variables explicatives :\n",
    "#    longueur de sépale, largueur de sépale, longueur de pétale et largeur de pétale.\n",
    "print(f\"mean : {X.mean(axis=0)}\")\n",
    "print(f\"std : {X.std(axis=0)}\")\n",
    "# 2. Combien y a-t-il d’exemples de chaque classe?\n",
    "print(f\"number of examples of each class : {np.bincount(y)}\")"
   ]
  },
  {
   "cell_type": "code",
   "execution_count": 3,
   "metadata": {},
   "outputs": [
    {
     "name": "stdout",
     "output_type": "stream",
     "text": [
      "class : ['setosa']\n",
      "X_train predicted classes : \n",
      "[0 0 0 0 0 0 0 0 0 0 0 0 0 0 0 0 0 0 0 0 0 0 0 0 0 0 0 0 0 0 0 0 0 0 0 0 0\n",
      " 0 0 0 0 0 0 0 0 0 0 0 0 0 1 1 1 1 1 1 1 1 1 1 1 1 1 1 1 1 1 1 1 1 1 1 1 1\n",
      " 1 1 1 1 1 1 1 1 1 1 1 1 1 1 1 1 1 1 1 1 1 1 1 1 1 1 2 2 2 2 2 2 2 2 2 2 2\n",
      " 2 2 2 2 2 2 2 2 2 2 2 2 2 2 2 2 2 2 2 2 2 2 2 2 2 2 2 2 2 2 2 2 2 2 2 2 2\n",
      " 2 2]\n"
     ]
    }
   ],
   "source": [
    "# Construire un arbre de décision et prédire la classe d’une fleur\n",
    "# dont les quatre variables explicatives ont les valeurs suivantes :\n",
    "# longueur de sépale = 4.9, largueur de sépale = 3.6, longueur de pétale = 1.4 et largeur de pétale = 0.1.\n",
    "clf = tree.DecisionTreeClassifier()\n",
    "clf = clf.fit(X, y)\n",
    "print(f\"class : {iris.target_names[clf.predict([[4.9, 3.6, 1.4, 0.1]])]}\")\n",
    "print(f\"X_train predicted classes : \\n{clf.predict(X)}\")"
   ]
  },
  {
   "cell_type": "code",
   "execution_count": 4,
   "metadata": {},
   "outputs": [
    {
     "name": "stdout",
     "output_type": "stream",
     "text": [
      "class : ['setosa']\n",
      "X_train predicted classes when (max_depth=1, min_samples_leaf=2) : \n",
      "[0 0 0 0 0 0 0 0 0 0 0 0 0 0 0 0 0 0 0 0 0 0 0 0 0 0 0 0 0 0 0 0 0 0 0 0 0\n",
      " 0 0 0 0 0 0 0 0 0 0 0 0 0 1 1 1 1 1 1 1 1 1 1 1 1 1 1 1 1 1 1 1 1 1 1 1 1\n",
      " 1 1 1 1 1 1 1 1 1 1 1 1 1 1 1 1 1 1 1 1 1 1 1 1 1 1 1 1 1 1 1 1 1 1 1 1 1\n",
      " 1 1 1 1 1 1 1 1 1 1 1 1 1 1 1 1 1 1 1 1 1 1 1 1 1 1 1 1 1 1 1 1 1 1 1 1 1\n",
      " 1 1]\n",
      "Comme on peut le voir, lorsque les paramètres ont été modifiés, les résultats prédits l'ont été également.\n"
     ]
    }
   ],
   "source": [
    "# 3. Changez les valeurs de paramètres max_depth et min_samples_leaf. Que constatez-vous ?\n",
    "clf = tree.DecisionTreeClassifier(max_depth=1, min_samples_leaf=2)\n",
    "clf = clf.fit(X, y)\n",
    "print(f\"class : {iris.target_names[clf.predict([[4.9, 3.6, 1.4, 0.1]])]}\")\n",
    "print(f\"X_train predicted classes when (max_depth=1, min_samples_leaf=2) : \\n{clf.predict(X)}\")\n",
    "print(\"Comme on peut le voir, lorsque les paramètres ont été modifiés, les résultats prédits l'ont été également.\")"
   ]
  },
  {
   "cell_type": "code",
   "execution_count": 5,
   "metadata": {},
   "outputs": [],
   "source": [
    "# 4. Le problème ici étant particulièrement simple, refaites une division\n",
    "#    apprentissage/test avec 5% des données en apprentissage et 95% test.\n",
    "X_train, X_test, y_train, y_test = train_test_split(X, y, test_size=0.05)"
   ]
  },
  {
   "cell_type": "code",
   "execution_count": 6,
   "metadata": {},
   "outputs": [
    {
     "name": "stdout",
     "output_type": "stream",
     "text": [
      "params : max_depth=1, min_samples_leaf=2\n",
      "train error : 0.04137323943661972\n",
      "test error : 0.046875\n"
     ]
    }
   ],
   "source": [
    "clf = tree.DecisionTreeClassifier(max_depth=1, min_samples_leaf=2)\n",
    "clf = clf.fit(X_train, y_train)\n",
    "y_train_pred = clf.predict(X_train)\n",
    "y_pred = clf.predict(X_test)\n",
    "train_error = np.mean(y_train_pred != y_train)\n",
    "test_error = np.mean(y_pred != y_test)\n",
    "print(\"params : max_depth=1, min_samples_leaf=2\")\n",
    "print(f\"train error : {train_error / len(y_test)}\")\n",
    "# Calculez le taux d’éléments mal classifiés sur l’ensemble de test.\n",
    "print(f\"test error : {test_error / len(y_test)}\")"
   ]
  },
  {
   "cell_type": "code",
   "execution_count": 7,
   "metadata": {},
   "outputs": [
    {
     "name": "stdout",
     "output_type": "stream",
     "text": [
      "Grid Search\n",
      "best params : {'max_depth': 3, 'min_samples_leaf': 5}\n",
      "best score : 0.9721674876847292\n",
      "test score : 1.0\n"
     ]
    }
   ],
   "source": [
    "# Faites varier (réalisez une recherche par grille avec GridSearchCV)\n",
    "# les valeurs des paramètres max_depth et min_samples_leafpour mesurer leur impact sur ce score.\n",
    "params = {'max_depth': [1, 2, 3, 4, 5, 6, 7, 8, 9, 10], 'min_samples_leaf': [1, 2, 3, 4, 5, 6, 7, 8, 9, 10]}\n",
    "grid = GridSearchCV(tree.DecisionTreeClassifier(), params, scoring='accuracy', cv=5)\n",
    "grid.fit(X_train, y_train)\n",
    "print(\"Grid Search\")\n",
    "print(f\"best params : {grid.best_params_}\")\n",
    "print(f\"best score : {grid.best_score_}\")\n",
    "best_model = grid.best_estimator_\n",
    "print(f\"test score : {best_model.score(X_test, y_test)}\")"
   ]
  }
 ],
 "metadata": {
  "kernelspec": {
   "display_name": "Python 3",
   "language": "python",
   "name": "python3"
  },
  "language_info": {
   "codemirror_mode": {
    "name": "ipython",
    "version": 3
   },
   "file_extension": ".py",
   "mimetype": "text/x-python",
   "name": "python",
   "nbconvert_exporter": "python",
   "pygments_lexer": "ipython3",
   "version": "3.7.9"
  },
  "orig_nbformat": 4
 },
 "nbformat": 4,
 "nbformat_minor": 2
}
